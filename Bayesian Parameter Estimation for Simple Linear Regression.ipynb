{
 "cells": [
  {
   "cell_type": "markdown",
   "metadata": {},
   "source": [
    "# Bayesian Parameter Estimation for Simple Linear Regression "
   ]
  },
  {
   "cell_type": "markdown",
   "metadata": {},
   "source": [
    "Sir Harold Jeffreys wrote,\n",
    "> \"Bayes’ theorem is to the theory of probability what the Pythagorean theorem is to geometry [**[1]**](https://en.wikipedia.org/wiki/Bayes%27_theorem#cite_note-1).\""
   ]
  },
  {
   "cell_type": "markdown",
   "metadata": {},
   "source": [
    "## Probability Axioms"
   ]
  },
  {
   "cell_type": "markdown",
   "metadata": {},
   "source": [
    "Given an event $\\Sigma$ in a sample space $\\Omega$ which is either finite with $\\mathcal N$ elements or countably infinite with $\\mathcal N = \\infty$ elements, then we can write,"
   ]
  },
  {
   "cell_type": "markdown",
   "metadata": {},
   "source": [
    "$$\\Omega \\equiv \\left(\\bigcup_{i=1}^{\\mathcal N} \\Sigma_{i}\\right)$$"
   ]
  },
  {
   "cell_type": "markdown",
   "metadata": {},
   "source": [
    "and a quantity $\\pi\\left(\\Sigma_i\\right)$, called the **probability** of event $\\Sigma_i$, is defined such that, "
   ]
  },
  {
   "cell_type": "markdown",
   "metadata": {},
   "source": [
    "- $0 \\leq \\pi\\left(\\Sigma_i\\right) \\leq 1$\n",
    "<br><br>\n",
    "- $\\pi\\left(\\Omega\\right) = 1$\n",
    "<br><br>\n",
    "- $\\pi\\left(\\bigcup_{i=1}^{\\infty}\\Sigma_{i}\\right) = \\sum^{\\infty}_{i=1} \\pi\\left(\\Sigma_{i}\\right)$"
   ]
  },
  {
   "cell_type": "markdown",
   "metadata": {},
   "source": [
    "## Conditional Probability"
   ]
  },
  {
   "cell_type": "markdown",
   "metadata": {},
   "source": [
    "**Conditional probability** measures the probability of an event given that an event has occurred, in unconditional probability the formula is witten as follows,"
   ]
  },
  {
   "cell_type": "markdown",
   "metadata": {},
   "source": [
    "$$\\pi\\left(\\mathcal A\\right) = \\frac{\\lambda}{\\Omega}$$"
   ]
  },
  {
   "cell_type": "markdown",
   "metadata": {},
   "source": [
    "where,"
   ]
  },
  {
   "cell_type": "markdown",
   "metadata": {},
   "source": [
    "- $\\lambda$: Number of times event $\\mathcal A$ occurs.\n",
    "<br><br>\n",
    "- $\\Omega$: Total number of possible outcomes."
   ]
  },
  {
   "cell_type": "markdown",
   "metadata": {},
   "source": [
    "While in conditional probability the mathematical notation is,"
   ]
  },
  {
   "cell_type": "markdown",
   "metadata": {},
   "source": [
    "$$\\pi\\left(\\mathcal A|\\mathcal B\\right) = \\frac{\\pi\\left(\\mathcal A \\cap \\mathcal B\\right)}{\\pi\\left(\\mathcal B\\right)}$$"
   ]
  },
  {
   "cell_type": "markdown",
   "metadata": {},
   "source": [
    "where,"
   ]
  },
  {
   "cell_type": "markdown",
   "metadata": {},
   "source": [
    "- $\\pi\\left(\\mathcal A|\\mathcal B\\right)$: Probability of an event $\\mathcal A$ given $\\mathcal B$ has occurred.\n",
    "<br><br>\n",
    "- $\\pi\\left(\\mathcal A \\cap \\mathcal B\\right)$: Probability of event $\\mathcal A$ occurred and event $\\mathcal B$ occurred.\n",
    "<br><br>\n",
    "- $\\pi\\left(\\mathcal B\\right)$: Probability of event $\\mathcal B$ occurred."
   ]
  },
  {
   "cell_type": "markdown",
   "metadata": {},
   "source": [
    "If $\\mathcal A$ and $\\mathcal B$ are two independent events, meaning that the occurrence of event $\\mathcal A$ doesn't depend on the occurrence of event $\\mathcal B$, the formula becomes,"
   ]
  },
  {
   "cell_type": "markdown",
   "metadata": {},
   "source": [
    "\\begin{equation} \\label{eq1}\n",
    "\\begin{split}\n",
    "\\pi\\left(\\mathcal A|\\mathcal B\\right) &= \\frac{\\pi\\left(\\mathcal A \\cap \\mathcal B\\right)}{\\pi\\left(\\mathcal B\\right)} \\\\\n",
    "       &= \\frac{\\pi\\left(\\mathcal A\\right) \\cdot \\pi\\left(\\mathcal B\\right)}{\\pi\\left(\\mathcal B\\right)} \\\\\n",
    "       &= \\pi\\left(\\mathcal A\\right)\n",
    "\\end{split}\n",
    "\\end{equation}         "
   ]
  },
  {
   "cell_type": "markdown",
   "metadata": {},
   "source": [
    "## Bayes' Theorem"
   ]
  },
  {
   "cell_type": "markdown",
   "metadata": {},
   "source": [
    "**Bayes' theorem**, named after the reverend mathematician Thomas Bayes, is one of the most important, if not the most important, formulas in mathematical statistics and probability theory, this rule computes the probability of an event based on prior knowledge of conditions that might be related to the event.\n",
    "<br>\n",
    "Bayes' theorem models the relationship between the probability of an event before evidence and its probability after the flow of evidence as,"
   ]
  },
  {
   "cell_type": "markdown",
   "metadata": {},
   "source": [
    "$$\\pi\\left(\\mathcal A|\\mathcal B\\right) = \\frac{\\pi\\left(\\mathcal B|\\mathcal A\\right) \\cdot \\pi\\left(\\mathcal A\\right)}{\\pi\\left(\\mathcal B\\right)}$$"
   ]
  },
  {
   "cell_type": "markdown",
   "metadata": {},
   "source": [
    "where,"
   ]
  },
  {
   "cell_type": "markdown",
   "metadata": {},
   "source": [
    "- $\\pi\\left(\\mathcal A|\\mathcal B\\right)$: The probability of event $\\mathcal A$ occurring given that $\\mathcal B$ is true, in the Bayesian context $\\pi\\left(\\mathcal A|\\mathcal B\\right)$ is called the **posterior**.\n",
    "<br><br>\n",
    "- $\\pi\\left(\\mathcal B|\\mathcal A\\right)$: The probability of event $\\mathcal B$ occurring given that $\\mathcal A$ is true, in the Bayesian context $\\pi\\left(\\mathcal B|\\mathcal A\\right)$ is called the **likelihood**.\n",
    "<br><br>\n",
    "- $\\pi\\left(\\mathcal A\\right)$: The probability of observing $\\mathcal A$ independently from $\\mathcal B$, in the Bayesian context $\\pi\\left(\\mathcal A\\right)$ is called the **prior**.\n",
    "<br><br>\n",
    "- $\\pi\\left(\\mathcal B\\right)$: The probability of observing $\\mathcal B$ independently from $\\mathcal A$, in the Bayesian context $\\mathcal B$ is the **evidence**."
   ]
  },
  {
   "cell_type": "markdown",
   "metadata": {},
   "source": [
    "This formula can be derived from the conditional probabilities,"
   ]
  },
  {
   "cell_type": "markdown",
   "metadata": {},
   "source": [
    "$$\\begin{align*}\n",
    "&\\pi\\left(\\mathcal A|\\mathcal B\\right) = \\frac{\\pi\\left(\\mathcal A \\cap \\mathcal B\\right)}{\\pi\\left(\\mathcal B\\right)} \\space \\space \\space \\space \\left(1\\right)\\\\\\\\\n",
    "&\\pi\\left(\\mathcal B|\\mathcal A\\right) = \\frac{\\pi\\left(\\mathcal B \\cap \\mathcal A\\right)}{\\pi\\left(\\mathcal A\\right)} \\space \\space \\space \\space \\left(2\\right)\n",
    "\\end{align*}$$"
   ]
  },
  {
   "cell_type": "markdown",
   "metadata": {},
   "source": [
    "from $\\left(1\\right)$ and $\\left(2\\right)$,"
   ]
  },
  {
   "cell_type": "markdown",
   "metadata": {},
   "source": [
    "\\begin{equation} \\label{eq2}\n",
    "\\begin{split}\n",
    "\\pi\\left(\\mathcal B \\cap \\mathcal A\\right) &= \\pi\\left(\\mathcal A|\\mathcal B\\right) \\cdot \\pi\\left(\\mathcal B\\right) \\\\\n",
    "                                &= \\pi\\left(\\mathcal B|\\mathcal A\\right) \\cdot \\pi\\left(\\mathcal A\\right)\n",
    "\\end{split}\n",
    "\\end{equation}        "
   ]
  },
  {
   "cell_type": "markdown",
   "metadata": {},
   "source": [
    "thus,"
   ]
  },
  {
   "cell_type": "markdown",
   "metadata": {},
   "source": [
    "$$\\pi\\left(\\mathcal A|\\mathcal B\\right) = \\frac{\\pi\\left(\\mathcal B|\\mathcal A\\right) \\cdot \\pi\\left(\\mathcal A\\right)}{\\pi\\left(\\mathcal B\\right)}$$"
   ]
  },
  {
   "cell_type": "markdown",
   "metadata": {},
   "source": [
    "Bayes' theorem can also be written as,"
   ]
  },
  {
   "cell_type": "markdown",
   "metadata": {},
   "source": [
    "$$\\pi\\left(\\mathcal A|\\mathcal B\\right) = \\frac{\\pi\\left(\\mathcal B|\\mathcal A\\right) \\cdot \\pi\\left(\\mathcal A\\right)}{\\pi\\left(\\mathcal B|\\mathcal A\\right) \\cdot \\pi\\left(\\mathcal A\\right) + \\pi\\left(\\mathcal B|\\bar{\\mathcal A}\\right) + \\pi\\left(\\bar{\\mathcal A}\\right)}$$"
   ]
  },
  {
   "cell_type": "markdown",
   "metadata": {},
   "source": [
    "where,"
   ]
  },
  {
   "cell_type": "markdown",
   "metadata": {},
   "source": [
    "- $\\bar{\\mathcal A}$: The complement of event $\\mathcal A$.\n",
    "<br><br>\n",
    "- $\\bar{\\mathcal B}$: The complement of event $\\mathcal B$."
   ]
  },
  {
   "cell_type": "markdown",
   "metadata": {},
   "source": [
    "A more general formula is,"
   ]
  },
  {
   "cell_type": "markdown",
   "metadata": {},
   "source": [
    "$$\\pi\\left(\\mathcal A_i|\\mathcal B\\right) = \\frac{\\pi\\left(\\mathcal B|\\mathcal A_i\\right) \\cdot \\pi\\left(\\mathcal A_i\\right)}{\\sum_j\\pi\\left(\\mathcal B|\\mathcal A_j\\right) \\cdot \\pi\\left(\\mathcal A_j\\right)}$$"
   ]
  },
  {
   "cell_type": "markdown",
   "metadata": {},
   "source": [
    "## Simple Linear Regression"
   ]
  },
  {
   "cell_type": "markdown",
   "metadata": {},
   "source": [
    "**Simple linear regression** is a linear regression model with a single explanatory variable. That is, it concerns two-dimensional sample points with one independent variable and one dependent variable (conventionally, the $x$ and $y$ coordinates in a Cartesian coordinate system) and finds a linear function that, as accurately as possible, predicts the dependent variable values as a function of the independent variables. The adjective simple refers to the fact that the outcome variable is related to a single predictor [**[2]**](https://en.wikipedia.org/wiki/Simple_linear_regression)."
   ]
  },
  {
   "cell_type": "markdown",
   "metadata": {},
   "source": [
    "Consider the model function,"
   ]
  },
  {
   "cell_type": "markdown",
   "metadata": {},
   "source": [
    "$${\\displaystyle y=\\alpha +\\beta x}$$"
   ]
  },
  {
   "cell_type": "markdown",
   "metadata": {},
   "source": [
    "which describes a line with slope $\\beta$ and $y$-intercept $\\alpha$. In general such a relationship may not hold exactly for the largely unobserved population of values of the independent and dependent variables; we call the unobserved deviations from the above equation the errors. Suppose we observe $\\eta$ data pairs and call them ${(x_i, y_i), i = 1, ..., \\eta}$. We can describe the underlying relationship between $y_i$ and $x_i$ involving this error term $\\varepsilon_i$ by, "
   ]
  },
  {
   "cell_type": "markdown",
   "metadata": {},
   "source": [
    "$${\\displaystyle y_{i}=\\alpha +\\beta x_{i}+\\varepsilon _{i}}$$"
   ]
  },
  {
   "cell_type": "markdown",
   "metadata": {},
   "source": [
    "this relationship between the true (but unobserved) underlying parameters $\\alpha$ and $\\beta$ and the data points is called a linear regression model. "
   ]
  },
  {
   "cell_type": "markdown",
   "metadata": {},
   "source": [
    "### Ordinary Least Squares"
   ]
  },
  {
   "cell_type": "markdown",
   "metadata": {},
   "source": [
    "**Ordinary least squares** is a method for estimating the unknown parameters in a linear regression model, in our situation the parameters subject to estimation are $\\alpha$ and $\\beta$.\n",
    "<br>\n",
    "**OLS** chooses the parameters of a linear function of a set of explanatory variables by the principle of least squares, meaning OLS will generate parametric values with the aim of minimizing the sum of the squares of the differences between the observed dependent variable in the given dataset and those predicted by the linear function.\n",
    "<br>\n",
    "We can mathematically express the ordinary least squares method such that,\n",
    "<br><br>\n",
    "$$\\underset{\\hat{\\alpha}, \\hat{\\beta}}{\\min} \\sum^n_{i=1} \\varepsilon^2_i = \\underset{\\hat{\\alpha}, \\hat{\\beta}}{\\min} \\sum^n_{i=1} \\left(y_i - \\hat{y}_i\\right)^2 = \\underset{\\hat{\\alpha}, \\hat{\\beta}}{\\min} \\sum^n_{i=1} \\left(y_i - \\hat{\\alpha} - \\hat{\\beta} x_i\\right)^2$$"
   ]
  },
  {
   "cell_type": "markdown",
   "metadata": {},
   "source": [
    "where,"
   ]
  },
  {
   "cell_type": "markdown",
   "metadata": {},
   "source": [
    "- $\\varepsilon$: Error term.\n",
    "<br><br>\n",
    "- $y$: Ground truth.\n",
    "<br><br>\n",
    "- $\\hat{y}$: Model prediction."
   ]
  },
  {
   "cell_type": "markdown",
   "metadata": {},
   "source": [
    "The least squares estimates in this case are given by simple formulas,"
   ]
  },
  {
   "cell_type": "markdown",
   "metadata": {},
   "source": [
    "\\begin{align*}\n",
    "\\hat{\\beta} &= \\frac{\\sigma_{xy}}{\\sigma^2_{x}} \\\\\n",
    "\\hat{\\alpha} &= \\bar{y} - \\hat{\\beta} \\bar{x}\n",
    "\\end{align*}"
   ]
  },
  {
   "cell_type": "markdown",
   "metadata": {},
   "source": [
    "where,"
   ]
  },
  {
   "cell_type": "markdown",
   "metadata": {},
   "source": [
    "- $\\bar{y}$: Average of the dependent variables.\n",
    "<br><br>\n",
    "- $\\bar{x}$: Average of the independent variables."
   ]
  },
  {
   "cell_type": "markdown",
   "metadata": {},
   "source": [
    "In the example below, we generate a random sample $(\\eta = 100)$ using the NumPy library; using the Seaborn library we get the kernel density function of the randomly generated sample,"
   ]
  },
  {
   "cell_type": "code",
   "execution_count": 1,
   "metadata": {},
   "outputs": [
    {
     "data": {
      "image/png": "[encoded data removed]",
      "text/plain": [
       "<Figure size 432x432 with 3 Axes>"
      ]
     },
     "metadata": {
      "needs_background": "light"
     },
     "output_type": "display_data"
    }
   ],
   "source": [
    "# Scientific libraries\n",
    "%matplotlib inline\n",
    "import matplotlib.pyplot as plt\n",
    "import seaborn as sns\n",
    "import pandas as pd\n",
    "import numpy as np \n",
    "import scipy.stats as stats\n",
    "\n",
    "np.random.seed(0)\n",
    "\n",
    "x = np.random.normal(0, 1, 1000)\n",
    "y = np.random.normal(0, 1, 1000)\n",
    "\n",
    "random_sample = pd.DataFrame({r'$x$': x, r'$y$': y})\n",
    "\n",
    "# Kernel density function\n",
    "sns.jointplot(x=r'$x$', y=r'$y$', data=random_sample, kind=\"kde\")\n",
    "plt.show()"
   ]
  },
  {
   "cell_type": "markdown",
   "metadata": {},
   "source": [
    "and get a plot of the linear regression fit."
   ]
  },
  {
   "cell_type": "code",
   "execution_count": 2,
   "metadata": {},
   "outputs": [
    {
     "data": {
      "image/png": "[encoded data removed]",
      "text/plain": [
       "<Figure size 432x432 with 3 Axes>"
      ]
     },
     "metadata": {
      "needs_background": "light"
     },
     "output_type": "display_data"
    }
   ],
   "source": [
    "# Linear regression fit\n",
    "sns.jointplot(x=r'$x$', y=r'$y$', data=random_sample, kind=\"reg\")\n",
    "plt.show()"
   ]
  },
  {
   "cell_type": "markdown",
   "metadata": {},
   "source": [
    "With the use Scipy's 'scipy.stats' we get the statistical properties defining the random sample."
   ]
  },
  {
   "cell_type": "code",
   "execution_count": 3,
   "metadata": {},
   "outputs": [
    {
     "data": {
      "text/plain": [
       "LinregressResult(slope=-0.030905801602136886, intercept=0.012218245493305647, rvalue=-0.031508274960912366, pvalue=0.31955143936530017, stderr=0.031033762367292505)"
      ]
     },
     "execution_count": 3,
     "metadata": {},
     "output_type": "execute_result"
    }
   ],
   "source": [
    "stats.linregress(x,y)"
   ]
  },
  {
   "cell_type": "markdown",
   "metadata": {},
   "source": [
    "## Bayesian Parameter Estimation"
   ]
  },
  {
   "cell_type": "markdown",
   "metadata": {},
   "source": [
    "In the Bayesian framework, we treat the parameters of a statistical model as random variables. The model is specified by a prior distribution over the values of the variables, as well as an evidence model which determines how the parameters influence the observed data. When we condition on the observations, we get the posterior distribution over parameters."
   ]
  },
  {
   "cell_type": "markdown",
   "metadata": {},
   "source": [
    "For point or interval estimation of a parameter $\\theta$ in a model $\\chi$ based on data $y$, Bayesian inference is based off,"
   ]
  },
  {
   "cell_type": "markdown",
   "metadata": {},
   "source": [
    "$$\\pi\\left(\\theta|y\\right) = \\frac{\\pi\\left(y|\\theta\\right) \\cdot \\pi\\left(\\theta\\right)}{\\pi\\left(y\\right)}$$"
   ]
  },
  {
   "cell_type": "markdown",
   "metadata": {},
   "source": [
    "where,"
   ]
  },
  {
   "cell_type": "markdown",
   "metadata": {},
   "source": [
    "- $\\pi\\left(\\theta|y\\right)$: The posterior density for the parameter.\n",
    "<br><br>\n",
    "- $\\pi\\left(y|\\theta\\right)$: The statistical model (or likelihood).\n",
    "<br><br>\n",
    "- $\\pi\\left(\\theta\\right)$: The prior density for the parameter.\n",
    "<br><br>\n",
    "- $\\pi\\left(y\\right)$: If $\\theta$ is continuous then $\\pi\\left(y\\right) = \\int{\\pi\\left(y|\\theta\\right) \\cdot \\pi\\left(\\theta\\right)}\\space \\mathrm{d} \\theta$, if $\\theta$ is discrete then $\\pi\\left(y\\right) = \\sum{\\pi\\left(y|\\theta\\right) \\cdot \\pi\\left(\\theta\\right)}$."
   ]
  },
  {
   "cell_type": "markdown",
   "metadata": {},
   "source": [
    "Thus,"
   ]
  },
  {
   "cell_type": "markdown",
   "metadata": {},
   "source": [
    "$$\\pi\\left(\\theta|y\\right) \\propto \\pi\\left(y| \\theta\\right) \\cdot \\pi\\left(\\theta\\right)$$"
   ]
  },
  {
   "cell_type": "markdown",
   "metadata": {},
   "source": [
    "the constant of proportionality, $\\pi\\left(y\\right)$, is chosen to make the total mass of the posterior distribution equal to one."
   ]
  },
  {
   "cell_type": "markdown",
   "metadata": {},
   "source": [
    "### Bayesian Inference for Binomial Proportion"
   ]
  },
  {
   "cell_type": "markdown",
   "metadata": {},
   "source": [
    "The **Binomial distribution** with parameters $\\eta$ and $\\rho$ is the discrete probability distribution of the number of successes in a sequence of $\\eta$ independent experiments."
   ]
  },
  {
   "cell_type": "markdown",
   "metadata": {},
   "source": [
    "Let $\\mathcal X$ be a random variable following a Binomial distribution with parameters $\\eta \\in \\mathbb{N}$ and $\\rho \\in \\left[0,1\\right]$, we write $\\mathcal X \\sim \\mathcal B\\left(\\eta, \\rho \\right)$. The conditional probability for $\\kappa$, the total number of successes in $\\mathcal \\eta$ trials, given $\\rho$ is,"
   ]
  },
  {
   "cell_type": "markdown",
   "metadata": {},
   "source": [
    "$$\\pi\\left(\\kappa|\\rho\\right) =  {\\displaystyle {\\binom {\\eta}{\\kappa}}\\rho^{\\kappa}(1-\\rho)^{\\eta-\\kappa}}$$ "
   ]
  },
  {
   "cell_type": "markdown",
   "metadata": {},
   "source": [
    "for $\\kappa = 0, 1, ..., \\eta,$ where,"
   ]
  },
  {
   "cell_type": "markdown",
   "metadata": {},
   "source": [
    "$${\\displaystyle {\\binom {\\eta}{\\kappa}}={\\frac {\\eta!}{\\kappa!(\\eta-\\kappa)!}}}$$"
   ]
  },
  {
   "cell_type": "code",
   "execution_count": 4,
   "metadata": {},
   "outputs": [
    {
     "data": {
      "image/png": "[encoded data removed]",
      "text/plain": [
       "<Figure size 432x288 with 1 Axes>"
      ]
     },
     "metadata": {
      "needs_background": "light"
     },
     "output_type": "display_data"
    }
   ],
   "source": [
    "import scipy.special\n",
    "\n",
    "# Binomial distribution\n",
    "def BinomialDistribution(n, k, p, q):\n",
    "    return (scipy.special.factorial(n)/(scipy.special.factorial(k)*scipy.special.factorial(n-k))) * p**k * q**(n - k)\n",
    "\n",
    "# Parameters\n",
    "n = 50\n",
    "k = np.arange(0,51)\n",
    "p = 0.5\n",
    "q = 0.5\n",
    "\n",
    "# Visualization\n",
    "plt.bar(np.arange(0, 51), BinomialDistribution(n, k, p, q), label=r'$\\rho = 0.5$', color='mediumorchid')\n",
    "plt.xlabel(r'$\\kappa$')\n",
    "plt.ylabel(r'$\\pi(\\kappa|\\rho)$')\n",
    "plt.title(r'Binomial Distribution')\n",
    "plt.legend()\n",
    "plt.show()"
   ]
  },
  {
   "cell_type": "markdown",
   "metadata": {},
   "source": [
    "if $\\kappa$ is held fixed at the number of successes we observed, and let $\\rho$ vary over its possible values, we have the likelihood function given by,"
   ]
  },
  {
   "cell_type": "markdown",
   "metadata": {},
   "source": [
    "$$\\pi\\left(\\kappa|\\rho\\right) =  {\\displaystyle {\\binom {\\eta}{\\kappa}}\\rho^{\\kappa}(1-\\rho)^{\\eta-\\kappa}}$$ "
   ]
  },
  {
   "cell_type": "markdown",
   "metadata": {},
   "source": [
    "for $\\rho \\in \\left[0,1\\right]$."
   ]
  },
  {
   "cell_type": "markdown",
   "metadata": {},
   "source": [
    "#### Beta as a Prior"
   ]
  },
  {
   "cell_type": "markdown",
   "metadata": {},
   "source": [
    "The **Beta distribution** is a family of continuous probability distributions defined on the interval $\\left[0, 1\\right]$ parametrized by two positive shape parameters, denoted by $\\alpha$ and $\\beta$."
   ]
  },
  {
   "cell_type": "markdown",
   "metadata": {},
   "source": [
    "The probability density function of the Beta distribution, for $x \\in [0, 1]$, and shape parameters $\\alpha, \\beta > 0,$ is a power function of the variable $x$ and of its reflection $(1 - x)$ as follows,"
   ]
  },
  {
   "cell_type": "markdown",
   "metadata": {},
   "source": [
    "$$\\pi\\left(x|\\alpha, \\beta \\right) = \\frac{x^{\\alpha-1}(1-x)^{\\beta-1}} {\\mathrm{B}(\\alpha,\\beta)}\\!$$"
   ]
  },
  {
   "cell_type": "markdown",
   "metadata": {},
   "source": [
    "where,"
   ]
  },
  {
   "cell_type": "markdown",
   "metadata": {},
   "source": [
    "$${\\displaystyle \\mathrm {B} (\\alpha ,\\beta )={\\frac {\\Gamma (\\alpha )\\Gamma (\\beta )}{\\Gamma (\\alpha +\\beta )}}}$$"
   ]
  },
  {
   "cell_type": "markdown",
   "metadata": {},
   "source": [
    "and $\\Gamma$ is the Gamma function."
   ]
  },
  {
   "cell_type": "code",
   "execution_count": 5,
   "metadata": {},
   "outputs": [
    {
     "data": {
      "image/png": "[encoded data removed]",
      "text/plain": [
       "<Figure size 432x288 with 1 Axes>"
      ]
     },
     "metadata": {
      "needs_background": "light"
     },
     "output_type": "display_data"
    }
   ],
   "source": [
    "# Beta distribution\n",
    "from scipy.stats import beta\n",
    "\n",
    "x = np.linspace(0, 1, 100)\n",
    "\n",
    "# Visualization\n",
    "plt.plot(x, beta.pdf(x, .5, .5), label=r'$\\alpha = \\beta = 0.5$')\n",
    "plt.plot(x, beta.pdf(x, 5, 1), label=r'$\\alpha = 5, \\beta = 1$')\n",
    "plt.plot(x, beta.pdf(x, 2, 5), label=r'$\\alpha = 2, \\beta = 5$')\n",
    "plt.xlabel(r'$x$')\n",
    "plt.ylabel(r'$\\pi\\left(x|\\alpha, \\beta \\right)$')\n",
    "plt.title('Beta Probability Density Function')\n",
    "plt.legend()\n",
    "plt.show()"
   ]
  },
  {
   "cell_type": "markdown",
   "metadata": {},
   "source": [
    "Let Beta $(\\alpha, \\beta)$ be the prior density used for $\\rho$,"
   ]
  },
  {
   "cell_type": "markdown",
   "metadata": {},
   "source": [
    "$$\\pi\\left(\\rho|\\alpha, \\beta \\right) = \\frac{\\rho^{\\alpha-1}(1-\\rho)^{\\beta-1}} {\\mathrm{B}(\\alpha,\\beta)}\\!$$"
   ]
  },
  {
   "cell_type": "markdown",
   "metadata": {},
   "source": [
    "for $\\rho \\in \\left[0,1\\right]$. We know that the posterior is proportional to prior times likelihood,"
   ]
  },
  {
   "cell_type": "markdown",
   "metadata": {},
   "source": [
    "\\begin{equation} \\label{eq3}\n",
    "\\begin{split}\n",
    "\\pi\\left(\\rho|\\kappa\\right) &\\propto \\pi\\left(\\kappa|\\rho\\right) \\cdot \\pi\\left(\\rho\\right) \\\\\n",
    "                    &\\propto \\binom {\\eta}{\\kappa}\\rho^{\\kappa}(1-\\rho)^{\\eta-\\kappa} \\frac{\\rho^{\\alpha-1}(1-\\rho)^{\\beta-1}} {\\mathrm{B}(\\alpha,\\beta)}\\!\n",
    "\\end{split}\n",
    "\\end{equation}   "
   ]
  },
  {
   "cell_type": "markdown",
   "metadata": {},
   "source": [
    "ignoring the constants in the likelihood and prior which don’t depend on the parameter $\\rho$, we get,"
   ]
  },
  {
   "cell_type": "markdown",
   "metadata": {},
   "source": [
    "\\begin{equation} \\label{eq4}\n",
    "\\begin{split}\n",
    "&\\propto \\rho^{\\kappa}(1-\\rho)^{\\eta-\\kappa} \\rho^{\\alpha-1}(1-\\rho)^{\\beta-1} \\\\\n",
    "&\\propto \\rho^{\\kappa + \\alpha - 1} (1-\\rho)^{\\eta + \\beta - \\kappa - 1}\n",
    "\\end{split}\n",
    "\\end{equation}   "
   ]
  },
  {
   "cell_type": "markdown",
   "metadata": {},
   "source": [
    "which is the shape of the posterior as a function of $\\rho$. We recognize that this is the Beta distribution with parameters $\\alpha' = \\kappa + \\alpha$, and $\\beta' = \\eta + \\beta - \\kappa$, and thus,"
   ]
  },
  {
   "cell_type": "markdown",
   "metadata": {},
   "source": [
    "$$\\pi\\left(\\rho|\\kappa \\right) = \\frac{\\rho^{\\kappa + \\alpha-1}(1-\\rho)^{\\eta + \\beta - \\kappa -1}} {\\mathrm{B}(\\alpha,\\beta)}\\!$$"
   ]
  },
  {
   "cell_type": "markdown",
   "metadata": {},
   "source": [
    "### Bayesian Inference for Normal Mean"
   ]
  },
  {
   "cell_type": "markdown",
   "metadata": {},
   "source": [
    "The **Normal distribution**, also known as the **Gaussian distribution**, is a probability distribution that is symmetric about the mean, showing that data near the mean are more frequent in occurrence than data far from the mean."
   ]
  },
  {
   "cell_type": "markdown",
   "metadata": {},
   "source": [
    "A Normal distribution with mean $\\mu$ and variance $\\sigma^2$ has a probability density function such that,"
   ]
  },
  {
   "cell_type": "markdown",
   "metadata": {},
   "source": [
    "$$\\pi\\left(x | \\mu, \\sigma^2\\right)={\\frac {1}{\\sigma {\\sqrt {2\\pi }}}} \\operatorname{e} ^{-{\\frac {1}{2}}\\left({\\frac {x-\\mu }{\\sigma }}\\right)^{2}}$$"
   ]
  },
  {
   "cell_type": "markdown",
   "metadata": {},
   "source": [
    "if a variable $\\mathcal X$, with mean $\\mu$ and variance $\\sigma^2$, is said to be distributed normally, its notation will then be,"
   ]
  },
  {
   "cell_type": "markdown",
   "metadata": {},
   "source": [
    "$$\\mathcal X \\sim {\\mathcal {N}}\\left(\\mu, \\sigma^2\\right)$$"
   ]
  },
  {
   "cell_type": "code",
   "execution_count": 6,
   "metadata": {},
   "outputs": [
    {
     "data": {
      "image/png": "[encoded data removed]",
      "text/plain": [
       "<Figure size 432x288 with 1 Axes>"
      ]
     },
     "metadata": {
      "needs_background": "light"
     },
     "output_type": "display_data"
    }
   ],
   "source": [
    "# Normal distribution\n",
    "def NormalDistribution(x, mu, sigma):\n",
    "    return (1/np.sqrt(2*np.pi*sigma**2))*np.exp(-(x-mu)**2/(2*sigma**2))\n",
    "\n",
    "# Parameters\n",
    "x = np.linspace(-6, 6, 1000)\n",
    "mu = np.array([-2, 0])\n",
    "sigma = np.sqrt(np.array([0.5, 1, 5]))\n",
    "\n",
    "# Visualization\n",
    "plt.plot(x, NormalDistribution(x, mu[0], sigma[0]), color='blue', label=r'$\\mu = -2, \\sigma^2 = 0.5$')\n",
    "plt.plot(x, NormalDistribution(x, mu[1], sigma[1]), color='green', label=r'$\\mu = 0, \\sigma^2 = 1$')\n",
    "plt.plot(x, NormalDistribution(x, mu[1], sigma[2]), color='red', label=r'$\\mu = 0, \\sigma^2= 5$')\n",
    "plt.xlabel(r'$x$')\n",
    "plt.ylabel(r'$\\pi(x | \\mu, \\sigma^2)$')\n",
    "plt.title(r'Probability Density Function of the Normal Distribution')\n",
    "plt.legend()\n",
    "plt.show()"
   ]
  },
  {
   "cell_type": "markdown",
   "metadata": {},
   "source": [
    "let $x_1, ..., x_\\eta$ be a normally distributed random sample with independent observations and of known variance $\\sigma^2$, its likelihood functions is then,"
   ]
  },
  {
   "cell_type": "markdown",
   "metadata": {},
   "source": [
    "$$\\pi\\left(x_1, ..., x_\\eta| \\mu \\right) = \\pi\\left(x_1| \\mu \\right) \\cdot ... \\cdot \\pi\\left(x_\\eta| \\mu \\right)$$"
   ]
  },
  {
   "cell_type": "markdown",
   "metadata": {},
   "source": [
    "this gives the joint likelihood,"
   ]
  },
  {
   "cell_type": "markdown",
   "metadata": {},
   "source": [
    "\\begin{equation} \\label{eq5}\n",
    "\\begin{split}\n",
    "\\pi\\left(x_1, ..., x_\\eta| \\mu \\right) &\\propto \\pi\\left(x_1| \\mu \\right) \\cdot ... \\cdot \\pi\\left(x_\\eta| \\mu \\right) \\\\\n",
    "&\\propto \\mathrm {e} ^{-{\\frac {1}{2}}\\left({\\frac {x_{1} - \\mu }{\\sigma }}\\right)^{2}} \\cdot ... \\cdot \\mathrm {e} ^{-{\\frac {1}{2}}\\left({\\frac {x_\\eta -\\mu }{\\sigma }}\\right)^{2}} \\\\\n",
    "&\\propto \\mathrm {e} ^{-{\\frac {1}{2\\sigma^2}}\\left({x_1 -\\mu }\\right)^2  + ... + \\left({x_\\eta -\\mu }\\right)^{2}}\n",
    "\\end{split}\n",
    "\\end{equation} "
   ]
  },
  {
   "cell_type": "markdown",
   "metadata": {},
   "source": [
    "after some algebric manipulations we get as a final result,"
   ]
  },
  {
   "cell_type": "markdown",
   "metadata": {},
   "source": [
    "\\begin{equation} \\label{eq6}\n",
    "\\begin{split}\n",
    "&\\propto \\mathrm{e}^{-{\\frac {1}{\\frac{2\\sigma^2}{\\eta}}}\\left({\\bar{x} -\\mu }\\right)^2} \\\\\n",
    "\\end{split}\n",
    "\\end{equation}"
   ]
  },
  {
   "cell_type": "markdown",
   "metadata": {},
   "source": [
    "we recognize that this likelihood has the shape of a Normal distribution with mean $\\mu$ and variance $\\frac{\\sigma^2}{\\eta}$."
   ]
  },
  {
   "cell_type": "markdown",
   "metadata": {},
   "source": [
    "We know that Bayes’ theorem can be summarized as posterior proportional to prior times likelihood, thus,"
   ]
  },
  {
   "cell_type": "markdown",
   "metadata": {},
   "source": [
    "$$\\pi\\left(\\mu | x_1, ..., x_\\eta\\right) \\propto \\pi(\\mu) \\cdot \\pi\\left(x_1, ..., x_\\eta| \\mu \\right)$$"
   ]
  },
  {
   "cell_type": "markdown",
   "metadata": {},
   "source": [
    "let $x_1, ..., x_\\eta$ be a normally distributed random sample with independent observations and of mean $\\mu$ and known variance $\\sigma^2$. We have a prior distribution that is Normal with mean $\\gamma$ and variance $\\nu^2$ such that,"
   ]
  },
  {
   "cell_type": "markdown",
   "metadata": {},
   "source": [
    "$$\\pi\\left(\\mu\\right) \\propto \\mathrm{e}^{-{\\frac {1}{2\\nu^2}}\\left({\\mu -\\gamma }\\right)^2}$$"
   ]
  },
  {
   "cell_type": "markdown",
   "metadata": {},
   "source": [
    "the shape of the likelihood is,"
   ]
  },
  {
   "cell_type": "markdown",
   "metadata": {},
   "source": [
    "\\begin{equation} \\label{eq7}\n",
    "\\begin{split}\n",
    "\\pi\\left(x_1, ..., x_\\eta| \\mu \\right) &\\propto \\mathrm{e}^{-{\\frac {1}{\\frac{2\\sigma^2}{\\eta}}}\\left({\\bar{x} -\\mu }\\right)^2} \n",
    "\\end{split}\n",
    "\\end{equation}"
   ]
  },
  {
   "cell_type": "markdown",
   "metadata": {},
   "source": [
    "and thus, the posterior distribution is,"
   ]
  },
  {
   "cell_type": "markdown",
   "metadata": {},
   "source": [
    "\\begin{equation} \\label{eq8}\n",
    "\\begin{split}\n",
    "\\pi\\left(\\mu | x_1, ..., x_\\eta\\right) &\\propto \\pi(\\mu) \\cdot \\pi\\left(x_1, ..., x_\\eta| \\mu \\right) \\\\\n",
    "&\\propto \\mathrm{e}^{-{\\frac {1}{2\\nu^2}}\\left({\\mu -\\gamma }\\right)^2} \\mathrm{e}^{-{\\frac {1}{\\frac{2\\sigma^2}{\\eta}}}\\left({\\bar{x} -\\mu }\\right)^2} \\\\\n",
    "&\\propto \\mathrm{e}^{-{\\frac {1}{2\\nu^2}}\\left({\\mu -\\gamma }\\right)^2 -{\\frac {1}{\\frac{2\\sigma^2}{\\eta}}}\\left({\\bar{x} -\\mu }\\right)^2} \\\\\n",
    "&\\propto \\mathrm{e}^{-{\\frac {1}{2\\nu^2}}\\left({\\mu^2 -2\\mu\\gamma + \\gamma^2 }\\right) -{\\frac {1}{\\frac{2\\sigma^2}{\\eta}}}\\left({\\bar{x}^2 -2\\bar{x}\\mu + \\mu^2}\\right)} \\\\\n",
    "&\\propto \\mathrm{e}^{-\\frac{1}{2\\frac{\\sigma^2}{\\eta}\\nu^2}\\left(\\frac{\\mu^2 \\sigma^2}{\\eta}-\\frac{2\\mu\\gamma\\sigma^2}{\\eta}+\\frac{\\gamma^2\\sigma^2}{\\eta}+\\bar{x}^2\\nu^2-2\\bar{x}\\mu\\nu^2+\\mu^2\\nu^2\\right)}\\\\\n",
    "&\\propto \\mathrm{e}^{-\\frac{1}{2\\frac{\\sigma^2}{\\eta}\\nu^2}\\left(\\mu^2\\left(\\frac{\\sigma^2}{\\eta} + \\nu^2\\right) - 2\\mu\\left(\\frac{\\gamma\\sigma^2}{\\eta} + \\bar{x}\\nu^2\\right)+\\left(\\bar{x}^2\\nu^2+\\frac{\\gamma^2\\sigma^2}{\\eta}\\right)\\right)} \\\\\n",
    "&\\propto \\mathrm{e}^{-\\frac{1}{2\\frac{\\frac{\\sigma^2}{\\eta}\\nu^2}{\\frac{\\sigma^2}{\\eta} + \\nu^2}}\\left(\\mu^2 - 2\\mu\\frac{\\left(\\frac{\\gamma\\sigma^2}{\\eta} + \\bar{x}\\nu^2\\right)}{\\frac{\\sigma^2}{\\eta} + \\nu^2}+\\frac{\\left(\\bar{x}^2\\nu^2+\\frac{\\gamma^2\\sigma^2}{\\eta}\\right)}{\\frac{\\sigma^2}{\\eta} + \\nu^2}\\right)} \\\\\n",
    "&\\propto \\mathrm{e}^{-\\frac{1}{2\\frac{\\frac{\\sigma^2}{\\eta}\\nu^2}{\\frac{\\sigma^2}{\\eta} + \\nu^2}}\\left(\\mu - \\frac{\\left(\\frac{\\gamma\\sigma^2}{\\eta} + \\bar{x}\\nu^2\\right)}{\\frac{\\sigma^2}{\\eta} + \\nu^2}\\right)^2}\n",
    "\\end{split}\n",
    "\\end{equation} "
   ]
  },
  {
   "cell_type": "markdown",
   "metadata": {},
   "source": [
    "finally, the posterior variance is,"
   ]
  },
  {
   "cell_type": "markdown",
   "metadata": {},
   "source": [
    "$$\\delta^2 = \\frac{\\frac{\\sigma^2}{\\eta}\\nu^2}{\\frac{\\sigma^2}{\\eta} + \\nu^2}$$"
   ]
  },
  {
   "cell_type": "markdown",
   "metadata": {},
   "source": [
    "and the posterior mean equals,"
   ]
  },
  {
   "cell_type": "markdown",
   "metadata": {},
   "source": [
    "$$\\tau = \\frac{\\left(\\frac{\\gamma\\sigma^2}{\\eta} + \\bar{x}\\nu^2\\right)}{\\frac{\\sigma^2}{\\eta} + \\nu^2}$$"
   ]
  },
  {
   "cell_type": "markdown",
   "metadata": {},
   "source": [
    "### Bayesian Inference for Simple Linear Regression"
   ]
  },
  {
   "cell_type": "markdown",
   "metadata": {},
   "source": [
    "The joint likelihood of a linear regression $\\chi$ with the model alternative parametrization function,"
   ]
  },
  {
   "cell_type": "markdown",
   "metadata": {},
   "source": [
    "$$y_i = \\alpha_{\\bar{x}} + \\beta\\left(x_i - \\bar{x}\\right) + \\varepsilon_i$$"
   ]
  },
  {
   "cell_type": "markdown",
   "metadata": {},
   "source": [
    "where $\\bar{x}$ is the mean value for $y$ given $x = \\bar{x}$, and $\\beta$ is the slope, is,"
   ]
  },
  {
   "cell_type": "markdown",
   "metadata": {},
   "source": [
    "\\begin{equation} \\label{eq9}\n",
    "\\begin{split}\n",
    "\\pi(y_1, ..., y_\\eta | x_1, ..., x_\\eta; \\alpha_{\\bar{x}}, \\beta) &\\propto \\Pi_{i = 1}^{\\eta} \\mathrm{e}^{-{\\frac {1}{2\\sigma^2}}\\left({y_i - \\left(\\alpha_{\\bar{x}} + \\beta \\left(x_i - \\bar{x}\\right)\\right) }\\right)^2} \\\\\n",
    "&\\propto \\mathrm{e}^{-{\\frac {1}{2\\sigma^2}}\\left(\\sum_{i=1}^{\\eta}{y_i - \\left(\\alpha_\\bar{x} + \\beta \\left(x_i -\\bar{x}\\right)\\right) }\\right)^2} \\\\\n",
    "&\\propto \\mathrm{e}^{-{\\frac {1}{2\\sigma^2}}\\left(\\sum_{i=1}^{\\eta}{y_i - \\bar{y} + \\bar{y} - \\left(\\alpha_{\\bar{x}} + \\beta \\left(x_i-\\bar{x}\\right)\\right) }\\right)^2} \\\\\n",
    "&\\propto \\mathrm{e}^{-{\\frac {1}{2\\sigma^2}}\\left(\\sum_{i=1}^{\\eta}{\\left(y_i - \\bar{y}\\right)^2 + 2 \\sum_{i=1}^{\\eta} \\left(y_i - \\bar{y}\\right) \\left(\\bar{y} - \\left(\\alpha + \\beta \\left(x_i-\\bar{x}\\right)\\right)\\right) + \\sum_{i=1}^{\\eta} \\left(\\bar{y} - \\left(\\alpha + \\beta \\left(x_i-\\bar{x}\\right)\\right)\\right)^2}\\right)} \\\\\n",
    "&\\propto \\mathrm{e}^{-{\\frac {1}{2\\sigma^2}}\\left(\\sum_{i=1}^{\\eta}{\\left(y_i - \\bar{y}\\right)^2 - 2 \\beta \\sum_{i=1}^{\\eta} \\left(y_i - \\bar{y}\\right) \\left(x_i - \\bar{x}\\right) + \\beta^2 \\sum_{i=1}^{n} \\left(x_i-\\bar{x}\\right)^2} + \\eta \\left(\\alpha_{\\bar{x}} - \\bar{y}\\right)^2\\right)} \\\\\n",
    "&\\propto \\mathrm{e}^{-{\\frac {1}{2\\sigma^2}}\\left(\\sum_{i=1}^{\\eta}{\\left(y_i - \\bar{y}\\right)^2 - 2 \\beta \\sum_{i=1}^{\\eta} \\left(y_i - \\bar{y}\\right) \\left(x_i - \\bar{x}\\right) + \\beta^2 \\sum_{i=1}^{n} \\left(x_i-\\bar{x}\\right)^2} \\right)} {\\mathrm{e}^{-{\\frac {1}{2\\sigma^2}}{\\eta \\left(\\alpha_{\\bar{x}} - \\bar{y}\\right)^2}}} \\\\\n",
    "&\\propto \\mathrm{e}^{-{\\frac {1}{2\\frac{\\sigma^2}{\\sum_{i=1}^{n} \\left(x_i-\\bar{x}\\right)^2}}}\\left(\\beta - \\frac{\\sum_{i=1}^{\\eta} \\left(y_i - \\bar{y}\\right) {\\left(x_i - \\bar{x}\\right)}}{\\sum_{i=1}^{n} \\left(x_i-\\bar{x}\\right)^2}\\right)^2} {\\mathrm{e}^{-{\\frac {1}{2\\sigma^2}}{\\eta \\left(\\alpha_{\\bar{x}} - \\bar{y}\\right)^2}}}\\\\\n",
    "\\end{split}\n",
    "\\end{equation} "
   ]
  },
  {
   "cell_type": "markdown",
   "metadata": {},
   "source": [
    "we note that, $\\frac{\\sum_{i=1}^{\\eta} \\left(y_i - \\bar{y}\\right) {\\left(x_i - \\bar{x}\\right)}}{\\sum_{i=1}^{\\eta} \\left(x_i-\\bar{x}\\right)^2} = \\hat{\\beta}$, is the least squares slope, and $\\bar{y} = \\hat{\\alpha}_{\\bar{x}}$, is the least squares estimate of the intercept of the vertical line $x = \\bar{x}$."
   ]
  },
  {
   "cell_type": "markdown",
   "metadata": {},
   "source": [
    "As a final resulat we get,"
   ]
  },
  {
   "cell_type": "markdown",
   "metadata": {},
   "source": [
    "$$\\pi(y_1, ..., y_\\eta | x_1, ..., x_\\eta; \\beta) = \\mathrm{e}^{-{\\frac {1}{2\\frac{\\sigma^2}{\\sum_{i=1}^{\\eta} \\left(x_i-\\bar{x}\\right)^2}}}\\left(\\beta - \\hat{\\beta}\\right)^2}$$"
   ]
  },
  {
   "cell_type": "markdown",
   "metadata": {},
   "source": [
    "and,"
   ]
  },
  {
   "cell_type": "markdown",
   "metadata": {},
   "source": [
    "$$\\pi(y_1, ..., y_\\eta | x_1, ..., x_\\eta; \\alpha_{\\bar{x}}) = {\\mathrm{e}^{-{\\frac {1}{2\\frac{\\sigma^2}{\\eta}}}{\\left(\\alpha_{\\bar{x}} -\\hat{\\alpha}_{\\bar{x}}\\right)^2}}}$$"
   ]
  },
  {
   "cell_type": "markdown",
   "metadata": {},
   "source": [
    "the joint posterior then is proportional to the joint prior times the joint likelihood,"
   ]
  },
  {
   "cell_type": "markdown",
   "metadata": {},
   "source": [
    "$$\\pi\\left(\\alpha_{\\bar{x}}, \\beta | x_1, ..., x_\\eta; y_1, ..., y_\\eta\\right) \\propto \\pi(\\alpha_{\\bar{x}}, \\beta) \\cdot \\pi(y_1, ..., y_\\eta | x_1, ..., x_\\eta; \\alpha_{\\bar{x}}, \\beta)$$"
   ]
  },
  {
   "cell_type": "markdown",
   "metadata": {},
   "source": [
    "if we use ${\\mathcal {N}}\\left(\\gamma_\\beta, \\nu^2_\\beta\\right)$ as a prior for $\\beta$, we get,"
   ]
  },
  {
   "cell_type": "markdown",
   "metadata": {},
   "source": [
    "$$\\omega^2_{\\beta} = \\frac{\\nu^2_{\\beta} \\sigma^2}{{\\sigma^2 + \\nu^2_{\\beta}}{\\sum_{i=1}^{\\eta} \\left(x_i-\\bar{x}\\right)^2}}$$"
   ]
  },
  {
   "cell_type": "markdown",
   "metadata": {},
   "source": [
    "as its posterior variance, and,"
   ]
  },
  {
   "cell_type": "markdown",
   "metadata": {},
   "source": [
    "$$\\iota_{\\beta} = \\frac{\\frac{1}{\\nu^2_\\beta}}{\\frac{1}{\\omega^2_{\\beta}}} \\cdot \\gamma_{\\beta} + \\frac{\\frac{{\\sum_{i=1}^{\\eta} \\left(x_i-\\bar{x}\\right)^2}}{\\sigma^2}}{\\frac{1}{\\omega^2_{\\beta}}} \\cdot \\hat{\\beta}$$"
   ]
  },
  {
   "cell_type": "markdown",
   "metadata": {},
   "source": [
    "as its posterior mean."
   ]
  },
  {
   "cell_type": "markdown",
   "metadata": {},
   "source": [
    "Similarly, if we use ${\\mathcal {N}}\\left(\\gamma_{\\alpha_{\\bar{x}}}, \\nu^2_{\\alpha_{\\bar{x}}}\\right)$ as a prior for $\\alpha_{\\bar{x}}$, we get,"
   ]
  },
  {
   "cell_type": "markdown",
   "metadata": {},
   "source": [
    "$$\\omega^2_{\\alpha_{\\bar{x}}} = \\frac{\\nu^2_{\\alpha_{\\bar{x}}} \\sigma^2}{{\\sigma^2 + \\nu^2_{\\alpha_{\\bar{x}}} \\eta}}$$"
   ]
  },
  {
   "cell_type": "markdown",
   "metadata": {},
   "source": [
    "as its posterior variance, and,"
   ]
  },
  {
   "cell_type": "markdown",
   "metadata": {},
   "source": [
    "$$\\iota^2_{\\alpha_{\\bar{x}}} = \\frac{\\frac{1}{\\nu^2_{\\alpha_{\\bar{x}}}}}{\\frac{1}{\\omega^2_{\\alpha_{\\bar{x}}}}} \\cdot \\gamma_{\\alpha_{\\bar{x}}} + \\frac{\\frac{\\eta}{\\sigma^2}}{\\frac{1}{\\omega^2_{\\alpha_{\\bar{x}}}}} \\cdot \\hat{\\alpha}_{\\bar{x}}$$"
   ]
  },
  {
   "cell_type": "markdown",
   "metadata": {},
   "source": [
    "as its posterior mean [**[3]**](https://www.amazon.com/Introduction-Bayesian-Statistics-William-Bolstad/dp/0470141158)."
   ]
  },
  {
   "cell_type": "markdown",
   "metadata": {},
   "source": [
    "## Bibliography"
   ]
  },
  {
   "cell_type": "markdown",
   "metadata": {},
   "source": [
    "- **[1]** https://en.wikipedia.org/wiki/Bayes%27_theorem#cite_note-1\n",
    "- **[2]** https://en.wikipedia.org/wiki/Simple_linear_regression\n",
    "- **[3]** https://www.amazon.com/Introduction-Bayesian-Statistics-William-Bolstad/dp/0470141158"
   ]
  }
 ],
 "metadata": {
  "kernelspec": {
   "display_name": "Python 3",
   "language": "python",
   "name": "python3"
  },
  "language_info": {
   "codemirror_mode": {
    "name": "ipython",
    "version": 3
   },
   "file_extension": ".py",
   "mimetype": "text/x-python",
   "name": "python",
   "nbconvert_exporter": "python",
   "pygments_lexer": "ipython3",
   "version": "3.7.3"
  }
 },
 "nbformat": 4,
 "nbformat_minor": 2
}
